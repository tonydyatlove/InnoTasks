{
 "cells": [
  {
   "cell_type": "code",
   "execution_count": 1,
   "id": "4a71f2b1",
   "metadata": {},
   "outputs": [],
   "source": [
    "import findspark\n",
    "findspark.init()"
   ]
  },
  {
   "cell_type": "code",
   "execution_count": 35,
   "id": "b235b13f",
   "metadata": {},
   "outputs": [],
   "source": [
    "import pyspark\n",
    "from pyspark.sql import SparkSession\n",
    "from pyspark.sql.functions import max, avg, min, round, col, count, sum, dense_rank, desc, when"
   ]
  },
  {
   "cell_type": "code",
   "execution_count": 3,
   "id": "6f00a648",
   "metadata": {},
   "outputs": [
    {
     "data": {
      "text/plain": [
       "True"
      ]
     },
     "execution_count": 3,
     "metadata": {},
     "output_type": "execute_result"
    }
   ],
   "source": [
    "import os\n",
    "from dotenv import load_dotenv\n",
    "\n",
    "load_dotenv()"
   ]
  },
  {
   "cell_type": "code",
   "execution_count": 4,
   "id": "6d0caa79",
   "metadata": {},
   "outputs": [],
   "source": [
    "spark = SparkSession.builder.master('local[*]').appName('task5').config('spark.jars', 'C:\\spark_folder\\spark-3.5.0-bin-hadoop3\\jars\\postgresql-42.7.1.jar').getOrCreate()"
   ]
  },
  {
   "cell_type": "code",
   "execution_count": 5,
   "id": "57d6d32f",
   "metadata": {},
   "outputs": [],
   "source": [
    "jdbc_url = 'jdbc:postgresql://localhost:5432/Task3'\n",
    "properties = {'user': os.getenv('DB_USER'), 'password': os.getenv('DB_PASSWORD')}\n",
    "\n",
    "reader = spark.read.format('jdbc').option('url', jdbc_url).option('driver', 'org.postgresql.Driver').option('user', properties['user']).option('password', properties['password'])"
   ]
  },
  {
   "cell_type": "code",
   "execution_count": 6,
   "id": "8ebe7dfd",
   "metadata": {},
   "outputs": [],
   "source": [
    "df_actor = reader.option('dbtable', 'actor').load()\n",
    "df_address = reader.option('dbtable', 'address').load()\n",
    "df_category = reader.option('dbtable', 'category').load()\n",
    "df_city = reader.option('dbtable', 'city').load()\n",
    "df_country = reader.option('dbtable', 'country').load()\n",
    "df_customer = reader.option('dbtable', 'customer').load()\n",
    "df_film = reader.option('dbtable', 'film').load()\n",
    "df_film_actor = reader.option('dbtable', 'film_actor').load()\n",
    "df_film_category = reader.option('dbtable', 'film_category').load()\n",
    "df_inventory = reader.option('dbtable', 'inventory').load()\n",
    "df_language = reader.option('dbtable', 'language').load()\n",
    "df_payment = reader.option('dbtable', 'payment').load()\n",
    "df_rental = reader.option('dbtable', 'rental').load()\n",
    "df_staff = reader.option('dbtable', 'staff').load()\n",
    "df_store = reader.option('dbtable', 'store').load()"
   ]
  },
  {
   "cell_type": "code",
   "execution_count": 7,
   "id": "05990492",
   "metadata": {},
   "outputs": [
    {
     "name": "stdout",
     "output_type": "stream",
     "text": [
      "+--------+----------+------------+-------------------+\n",
      "|actor_id|first_name|   last_name|        last_update|\n",
      "+--------+----------+------------+-------------------+\n",
      "|       1|  PENELOPE|     GUINESS|2022-02-15 12:34:33|\n",
      "|       2|      NICK|    WAHLBERG|2022-02-15 12:34:33|\n",
      "|       3|        ED|       CHASE|2022-02-15 12:34:33|\n",
      "|       4|  JENNIFER|       DAVIS|2022-02-15 12:34:33|\n",
      "|       5|    JOHNNY|LOLLOBRIGIDA|2022-02-15 12:34:33|\n",
      "|       6|     BETTE|   NICHOLSON|2022-02-15 12:34:33|\n",
      "|       7|     GRACE|      MOSTEL|2022-02-15 12:34:33|\n",
      "|       8|   MATTHEW|   JOHANSSON|2022-02-15 12:34:33|\n",
      "|       9|       JOE|       SWANK|2022-02-15 12:34:33|\n",
      "|      10| CHRISTIAN|       GABLE|2022-02-15 12:34:33|\n",
      "|      11|      ZERO|        CAGE|2022-02-15 12:34:33|\n",
      "|      12|      KARL|       BERRY|2022-02-15 12:34:33|\n",
      "|      13|       UMA|        WOOD|2022-02-15 12:34:33|\n",
      "|      14|    VIVIEN|      BERGEN|2022-02-15 12:34:33|\n",
      "|      15|      CUBA|     OLIVIER|2022-02-15 12:34:33|\n",
      "|      16|      FRED|     COSTNER|2022-02-15 12:34:33|\n",
      "|      17|     HELEN|      VOIGHT|2022-02-15 12:34:33|\n",
      "|      18|       DAN|        TORN|2022-02-15 12:34:33|\n",
      "|      19|       BOB|     FAWCETT|2022-02-15 12:34:33|\n",
      "|      20|   LUCILLE|       TRACY|2022-02-15 12:34:33|\n",
      "+--------+----------+------------+-------------------+\n",
      "only showing top 20 rows\n",
      "\n"
     ]
    }
   ],
   "source": [
    "df_actor.show()"
   ]
  },
  {
   "cell_type": "code",
   "execution_count": 8,
   "id": "46e552cb",
   "metadata": {},
   "outputs": [
    {
     "name": "stdout",
     "output_type": "stream",
     "text": [
      "+-----------+-----------------------+\n",
      "|       name|amount_in_each_category|\n",
      "+-----------+-----------------------+\n",
      "|     Sports|                     74|\n",
      "|    Foreign|                     73|\n",
      "|     Family|                     69|\n",
      "|Documentary|                     68|\n",
      "|  Animation|                     66|\n",
      "|     Action|                     64|\n",
      "|        New|                     63|\n",
      "|      Drama|                     62|\n",
      "|      Games|                     61|\n",
      "|     Sci-Fi|                     61|\n",
      "|   Children|                     60|\n",
      "|     Comedy|                     58|\n",
      "|     Travel|                     57|\n",
      "|   Classics|                     57|\n",
      "|     Horror|                     56|\n",
      "|      Music|                     51|\n",
      "+-----------+-----------------------+\n",
      "\n"
     ]
    }
   ],
   "source": [
    "#  Вывести количество фильмов в каждой категории, отсортировать по убыванию.\n",
    "query_1 = df_film_category.join(df_category, df_film_category.category_id == df_category.category_id, 'inner') \\\n",
    "    .groupBy(df_category.name).agg(count(df_film_category.film_id).alias('amount_in_each_category')) \\\n",
    "    .orderBy(col('amount_in_each_category').desc()).show()"
   ]
  },
  {
   "cell_type": "code",
   "execution_count": 9,
   "id": "7dfa4208",
   "metadata": {},
   "outputs": [
    {
     "name": "stdout",
     "output_type": "stream",
     "text": [
      "+----------+-----------+----------------------+\n",
      "|first_name|last_name  |amount_of_rental_films|\n",
      "+----------+-----------+----------------------+\n",
      "|GINA      |DEGENERES  |753                   |\n",
      "|MATTHEW   |CARREY     |678                   |\n",
      "|MARY      |KEITEL     |674                   |\n",
      "|ANGELA    |WITHERSPOON|654                   |\n",
      "|WALTER    |TORN       |640                   |\n",
      "|HENRY     |BERRY      |612                   |\n",
      "|JAYNE     |NOLTE      |611                   |\n",
      "|VAL       |BOLGER     |605                   |\n",
      "|SANDRA    |KILMER     |604                   |\n",
      "|SEAN      |GUINESS    |599                   |\n",
      "+----------+-----------+----------------------+\n",
      "only showing top 10 rows\n",
      "\n"
     ]
    }
   ],
   "source": [
    "# Вывести 10 актеров, чьи фильмы больше всего арендовали, отсортировать по убыванию.\n",
    "query_2 = df_rental.join(df_inventory, df_rental.inventory_id == df_inventory.inventory_id, 'left') \\\n",
    "    .join(df_film_actor, df_inventory.film_id == df_film_actor.film_id, 'inner') \\\n",
    "    .join(df_actor, df_film_actor.actor_id == df_actor.actor_id, 'left') \\\n",
    "    .groupBy(df_actor.actor_id, df_actor.first_name, df_actor.last_name) \\\n",
    "    .agg(count(df_rental.rental_id).alias('amount_of_rental_films')) \\\n",
    "    .orderBy(col('amount_of_rental_films').desc()) \\\n",
    "    .select(df_actor.first_name, df_actor.last_name, col('amount_of_rental_films')) \\\n",
    "    .show(10, truncate=False)"
   ]
  },
  {
   "cell_type": "code",
   "execution_count": 10,
   "id": "4ffb2375",
   "metadata": {},
   "outputs": [
    {
     "name": "stdout",
     "output_type": "stream",
     "text": [
      "+------+-----------------------+\n",
      "|  name|most_expensive_category|\n",
      "+------+-----------------------+\n",
      "|Sports|                1509.26|\n",
      "+------+-----------------------+\n",
      "only showing top 1 row\n",
      "\n"
     ]
    }
   ],
   "source": [
    "# Вывести категорию фильмов, на которую потратили больше всего денег.\n",
    "query_3 = df_film.join(df_film_category, df_film.film_id == df_film_category.film_id, 'left') \\\n",
    "    .join(df_category, df_film_category.category_id == df_category.category_id, 'inner') \\\n",
    "    .groupBy(df_category.name) \\\n",
    "    .agg(sum(df_film.replacement_cost).alias('most_expensive_category')) \\\n",
    "    .orderBy(col('most_expensive_category').desc()) \\\n",
    "    .show(1)"
   ]
  },
  {
   "cell_type": "code",
   "execution_count": 11,
   "id": "89daaede",
   "metadata": {},
   "outputs": [
    {
     "name": "stdout",
     "output_type": "stream",
     "text": [
      "+----------------------+\n",
      "|title                 |\n",
      "+----------------------+\n",
      "|CHOCOLATE DUCK        |\n",
      "|BUTCH PANTHER         |\n",
      "|VOLUME HOUSE          |\n",
      "|ORDER BETRAYED        |\n",
      "|TADPOLE PARK          |\n",
      "|KILL BROTHERHOOD      |\n",
      "|FRANKENSTEIN STRANGER |\n",
      "|CROSSING DIVORCE      |\n",
      "|SUICIDES SILENCE      |\n",
      "|CATCH AMISTAD         |\n",
      "|PERDITION FARGO       |\n",
      "|FLOATS GARDEN         |\n",
      "|GUMP DATE             |\n",
      "|WALLS ARTIST          |\n",
      "|GLADIATOR WESTWARD    |\n",
      "|HOCUS FRIDA           |\n",
      "|ARSENIC INDEPENDENCE  |\n",
      "|MUPPET MILE           |\n",
      "|FIREHOUSE VIETNAM     |\n",
      "|ROOF CHAMPION         |\n",
      "|DAZED PUNK            |\n",
      "|PEARL DESTINY         |\n",
      "|RAINBOW SHOCK         |\n",
      "|KENTUCKIAN GIANT      |\n",
      "|BOONDOCK BALLROOM     |\n",
      "|COMMANDMENTS EXPRESS  |\n",
      "|HATE HANDICAP         |\n",
      "|ARK RIDGEMONT         |\n",
      "|CROWDS TELEMARK       |\n",
      "|DELIVERANCE MULHOLLAND|\n",
      "|RAIDERS ANTITRUST     |\n",
      "|SISTER FREDDY         |\n",
      "|VILLAIN DESPERATE     |\n",
      "|APOLLO TEEN           |\n",
      "|ALICE FANTASIA        |\n",
      "|CRYSTAL BREAKING      |\n",
      "|TREASURE COMMAND      |\n",
      "|SKY MIRACLE           |\n",
      "|CHINATOWN GLADIATOR   |\n",
      "|PSYCHO SHRUNK         |\n",
      "|ARGONAUTS TOWN        |\n",
      "|WAKE JAWS             |\n",
      "+----------------------+\n",
      "\n"
     ]
    }
   ],
   "source": [
    "# Вывести названия фильмов, которых нет в inventory. Написать запрос без использования оператора IN.\n",
    "query_4 = df_film.join(df_inventory, df_film.film_id == df_inventory.film_id, 'left_anti') \\\n",
    "    .select(df_film.title).show(100, truncate=False)"
   ]
  },
  {
   "cell_type": "code",
   "execution_count": 12,
   "id": "f1c78365",
   "metadata": {},
   "outputs": [],
   "source": [
    "from pyspark.sql.window import Window"
   ]
  },
  {
   "cell_type": "code",
   "execution_count": 13,
   "id": "b1218a64",
   "metadata": {},
   "outputs": [
    {
     "name": "stdout",
     "output_type": "stream",
     "text": [
      "+----------+---------+----+\n",
      "|first_name|last_name|rank|\n",
      "+----------+---------+----+\n",
      "|HELEN     |VOIGHT   |1   |\n",
      "|KEVIN     |GARLAND  |2   |\n",
      "|RALPH     |CRUZ     |2   |\n",
      "|MARY      |TANDY    |2   |\n",
      "|WHOOPI    |HURT     |2   |\n",
      "|SCARLETT  |DAMON    |3   |\n",
      "|SYLVESTER |DERN     |3   |\n",
      "|SANDRA    |KILMER   |3   |\n",
      "|RENEE     |BALL     |3   |\n",
      "|KIRSTEN   |AKROYD   |3   |\n",
      "|ALAN      |DREYFUSS |3   |\n",
      "|SUSAN     |DAVIS    |3   |\n",
      "|JAYNE     |NOLTE    |3   |\n",
      "|UMA       |WOOD     |3   |\n",
      "|JANE      |JACKMAN  |3   |\n",
      "|CHRISTIAN |AKROYD   |3   |\n",
      "|JADA      |RYDER    |3   |\n",
      "|ELLEN     |PRESLEY  |3   |\n",
      "|VAL       |BOLGER   |3   |\n",
      "+----------+---------+----+\n",
      "\n"
     ]
    }
   ],
   "source": [
    "# Вывести топ 3 актеров, которые больше всего появлялись в фильмах в категории “Children”.\n",
    "# --Если у нескольких актеров одинаковое кол-во фильмов, вывести всех.\n",
    "\n",
    "windowSpec = Window.orderBy(desc('film_count'))\n",
    "\n",
    "query_5 = df_category.join(df_film_category, df_category.category_id == df_film_category.category_id, 'inner') \\\n",
    "    .join(df_film_actor, df_film_category.film_id == df_film_actor.film_id, 'inner') \\\n",
    "    .join(df_actor, df_film_actor.actor_id == df_actor.actor_id, 'left') \\\n",
    "    .filter(df_category.name == 'Children') \\\n",
    "    .groupBy(df_actor.actor_id, df_actor.first_name, df_actor.last_name) \\\n",
    "    .agg(count(df_film_actor.film_id).alias('film_count')) \\\n",
    "    .withColumn('rank', dense_rank().over(windowSpec)) \\\n",
    "    .filter('rank <= 3') \\\n",
    "    .select('first_name', 'last_name', 'rank') \\\n",
    "    .show(truncate=False)"
   ]
  },
  {
   "cell_type": "code",
   "execution_count": 33,
   "id": "71b50f9f",
   "metadata": {},
   "outputs": [
    {
     "name": "stdout",
     "output_type": "stream",
     "text": [
      "+------------------+------------------+----------------+\n",
      "|              city|amount_of_inactive|amount_of_active|\n",
      "+------------------+------------------+----------------+\n",
      "|          Uluberia|                 1|               0|\n",
      "|         Najafabad|                 1|               0|\n",
      "|         Pingxiang|                 1|               0|\n",
      "|          Xiangfan|                 1|               0|\n",
      "|        Kumbakonam|                 1|               0|\n",
      "|       Szkesfehrvr|                 1|               0|\n",
      "|  Charlotte Amalie|                 1|               0|\n",
      "|            Kamyin|                 1|               0|\n",
      "|            Daxian|                 1|               0|\n",
      "|     Coatzacoalcos|                 1|               0|\n",
      "|           Wroclaw|                 1|               0|\n",
      "|            Ktahya|                 1|               0|\n",
      "|            Amroha|                 1|               0|\n",
      "|   Southend-on-Sea|                 1|               0|\n",
      "|           Bat Yam|                 1|               0|\n",
      "|            London|                 0|               2|\n",
      "|            Aurora|                 0|               2|\n",
      "|          Fengshan|                 0|               1|\n",
      "|A Corua (La Corua)|                 0|               1|\n",
      "|           El Alto|                 0|               1|\n",
      "+------------------+------------------+----------------+\n",
      "only showing top 20 rows\n",
      "\n"
     ]
    }
   ],
   "source": [
    "# Вывести города с количеством активных и неактивных клиентов (активный — customer.active = 1). \n",
    "# --Отсортировать по количеству неактивных клиентов по убыванию.\n",
    "\n",
    "query_6 = df_customer.join(df_address, df_customer.address_id == df_address.address_id, 'inner') \\\n",
    "    .join(df_city, df_address.city_id == df_city.city_id) \\\n",
    "    .groupBy(df_city.city) \\\n",
    "    .agg(sum(when(df_customer.active == 0, 1).otherwise(0)).alias('amount_of_inactive'), \n",
    "         sum(when(df_customer.active == 1, 1).otherwise(0)).alias('amount_of_active')) \\\n",
    "    .orderBy(col('amount_of_inactive').desc(), col('amount_of_active').desc()).show()"
   ]
  },
  {
   "cell_type": "code",
   "execution_count": 47,
   "id": "65b92a97",
   "metadata": {},
   "outputs": [
    {
     "name": "stdout",
     "output_type": "stream",
     "text": [
      "+-------+-------------------------------------+\n",
      "|name   |sum_hours                            |\n",
      "+-------+-------------------------------------+\n",
      "|Foreign|INTERVAL '269 16:09:00' DAY TO SECOND|\n",
      "|Action |INTERVAL '60 23:41:00' DAY TO SECOND |\n",
      "+-------+-------------------------------------+\n",
      "\n"
     ]
    }
   ],
   "source": [
    "# --7. Вывести категорию фильмов, у которой самое большое кол-во часов \n",
    "# --суммарной аренды в городах (customer.address_id в этом city), \n",
    "# --и которые начинаются на букву “a”. \n",
    "# --То же самое сделать для городов в которых есть символ “-”. \n",
    "# --Написать все в одном запросе.\n",
    "\n",
    "query_7_1 = df_category.join(df_film_category, df_category.category_id == df_film_category.category_id, 'inner') \\\n",
    "    .join(df_inventory, df_film_category.film_id == df_inventory.film_id, 'inner') \\\n",
    "    .join(df_rental, df_inventory.inventory_id == df_rental.inventory_id, 'inner') \\\n",
    "    .join(df_customer, df_rental.customer_id == df_customer.customer_id, 'inner') \\\n",
    "    .join(df_address, df_customer.address_id == df_address.address_id, 'inner') \\\n",
    "    .join(df_city, df_address.city_id == df_city.city_id, 'inner') \\\n",
    "    .where(df_city.city.like('%-%')) \\\n",
    "    .groupBy(df_category.name) \\\n",
    "    .agg(sum(df_rental.return_date - df_rental.rental_date).alias('sum_hours')) \\\n",
    "    .orderBy(col('sum_hours').desc()).limit(1)\n",
    "\n",
    "\n",
    "query_7_2 = df_category.join(df_film_category, df_category.category_id == df_film_category.category_id, 'inner') \\\n",
    "    .join(df_inventory, df_film_category.film_id == df_inventory.film_id, 'inner') \\\n",
    "    .join(df_rental, df_inventory.inventory_id == df_rental.inventory_id, 'inner') \\\n",
    "    .join(df_customer, df_rental.customer_id == df_customer.customer_id, 'inner') \\\n",
    "    .join(df_address, df_customer.address_id == df_address.address_id, 'inner') \\\n",
    "    .join(df_city, df_address.city_id == df_city.city_id, 'inner') \\\n",
    "    .where(df_city.city.like('a%')) \\\n",
    "    .groupBy(df_category.name) \\\n",
    "    .agg(sum(df_rental.return_date - df_rental.rental_date).alias('sum_hours')) \\\n",
    "    .orderBy(col('sum_hours').desc()).limit(1)\n",
    "\n",
    "query_7 = query_7_1.union(query_7_2).show(truncate=False)"
   ]
  },
  {
   "cell_type": "code",
   "execution_count": null,
   "id": "56a01ed6",
   "metadata": {},
   "outputs": [],
   "source": []
  }
 ],
 "metadata": {
  "kernelspec": {
   "display_name": "Python 3 (ipykernel)",
   "language": "python",
   "name": "python3"
  },
  "language_info": {
   "codemirror_mode": {
    "name": "ipython",
    "version": 3
   },
   "file_extension": ".py",
   "mimetype": "text/x-python",
   "name": "python",
   "nbconvert_exporter": "python",
   "pygments_lexer": "ipython3",
   "version": "3.11.4"
  }
 },
 "nbformat": 4,
 "nbformat_minor": 5
}
