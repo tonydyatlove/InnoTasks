{
 "cells": [
  {
   "cell_type": "markdown",
   "id": "d3df79dd",
   "metadata": {},
   "source": [
    "## Упражнения по библиотеке Numpy"
   ]
  },
  {
   "cell_type": "code",
   "execution_count": 2,
   "id": "76b9c43b",
   "metadata": {},
   "outputs": [],
   "source": [
    "import numpy as np"
   ]
  },
  {
   "cell_type": "markdown",
   "id": "03727b7c",
   "metadata": {},
   "source": [
    "**1.** Дан случайный массив, поменять знак у элементов, значения которых между 3 и 8"
   ]
  },
  {
   "cell_type": "code",
   "execution_count": 17,
   "id": "b89a7523",
   "metadata": {},
   "outputs": [
    {
     "name": "stdout",
     "output_type": "stream",
     "text": [
      "[-3.83964786  1.72449226  2.20915243 -6.48953686  9.46599183 -7.84102425\n",
      " -3.15011102 -5.64034436 -4.4898556  -6.68315178]\n"
     ]
    }
   ],
   "source": [
    "#done\n",
    "a = np.random.random(10)*10\n",
    "a[(a > 3) & (a < 8)] *= -1\n",
    "print(a)"
   ]
  },
  {
   "cell_type": "markdown",
   "id": "5fa4abda",
   "metadata": {},
   "source": [
    "**2.** Заменить максимальный элемент случайного массива на 0"
   ]
  },
  {
   "cell_type": "code",
   "execution_count": 15,
   "id": "f2788a6e",
   "metadata": {},
   "outputs": [
    {
     "name": "stdout",
     "output_type": "stream",
     "text": [
      "[0.67460014 6.76492016 5.66053357 7.70929865 6.76745105 5.52514478\n",
      " 5.79715719 6.45128465 7.07308565 8.72617077]\n",
      "[0.67460014 6.76492016 5.66053357 7.70929865 6.76745105 5.52514478\n",
      " 5.79715719 6.45128465 7.07308565 0.        ]\n"
     ]
    }
   ],
   "source": [
    "#done\n",
    "a = np.random.random(10)*10\n",
    "print(a)\n",
    "a[a.argmax()] = 0\n",
    "print(a)"
   ]
  },
  {
   "cell_type": "markdown",
   "id": "3cac656b",
   "metadata": {},
   "source": [
    "**3.** Построить прямое произведение массивов (все комбинации с каждым элементом). На вход подается двумерный массив"
   ]
  },
  {
   "cell_type": "code",
   "execution_count": 26,
   "id": "3396b764",
   "metadata": {
    "scrolled": true
   },
   "outputs": [
    {
     "name": "stdout",
     "output_type": "stream",
     "text": [
      "[[5 3 4 4]\n",
      " [8 7 7 9]]\n",
      "125\n"
     ]
    }
   ],
   "source": [
    "#done\n",
    "a = np.random.randint(1, 11, size=(2, 4))\n",
    "print(a)\n",
    "arr1 = a[1, :]\n",
    "arr2 = a[0, :]\n",
    "res = arr1.dot(arr2)\n",
    "print(res)"
   ]
  },
  {
   "cell_type": "markdown",
   "id": "674c9354",
   "metadata": {},
   "source": [
    "**4.** Даны 2 массива A (8x3) и B (2x2). Найти строки в A, которые содержат элементы из каждой строки в B, независимо от порядка элементов в B"
   ]
  },
  {
   "cell_type": "code",
   "execution_count": 166,
   "id": "cb664782",
   "metadata": {},
   "outputs": [
    {
     "name": "stdout",
     "output_type": "stream",
     "text": [
      "[[ 1  9  3]\n",
      " [ 9  2 10]\n",
      " [ 6  4  5]\n",
      " [ 6  4  9]\n",
      " [ 1  5  7]\n",
      " [ 8  1  2]\n",
      " [ 6  7  3]\n",
      " [ 1  7  7]]\n",
      "[[9 7]\n",
      " [2 9]]\n",
      "[[False  True False]\n",
      " [ True  True False]\n",
      " [False False False]\n",
      " [False False  True]\n",
      " [False False  True]\n",
      " [False False  True]\n",
      " [False  True False]\n",
      " [False  True  True]]\n",
      "[[ 9  2 10]\n",
      " [ 1  7  7]]\n"
     ]
    }
   ],
   "source": [
    "#done\n",
    "a = np.random.randint(1, 11, size=(8, 3))\n",
    "b = np.random.randint(1, 11, size=(2, 2))\n",
    "print(a)\n",
    "print(b)\n",
    "\n",
    "row_to_check = np.array([[b[0][0], b[1][0]], [b[0][0], b[1][1]], [b[0][1], b[1][0]], [b[0][1], b[1][1]],\n",
    "               [b[1][0], b[0][0]], [b[1][1], b[0][0]], [b[1][0], b[0][1]], [b[1][1], b[0][1]]])    \n",
    "\n",
    "is_row_in_matrix = np.isin(a, row_to_check)\n",
    "print(is_row_in_matrix)\n",
    "\n",
    "res = []\n",
    "for i in range(len(is_row_in_matrix)):\n",
    "    if np.count_nonzero(is_row_in_matrix[i] == True) > 1:\n",
    "        res.append(i)\n",
    "    \n",
    "result = a[res]\n",
    "\n",
    "print(result)"
   ]
  },
  {
   "cell_type": "markdown",
   "id": "fa46533b",
   "metadata": {},
   "source": [
    "**5.** Дана 10x3 матрица, найти строки из неравных значений (например строка [2,2,3] остается, строка [3,3,3] удаляется)"
   ]
  },
  {
   "cell_type": "code",
   "execution_count": 57,
   "id": "fa545b23",
   "metadata": {},
   "outputs": [
    {
     "name": "stdout",
     "output_type": "stream",
     "text": [
      "[[2 2 3]\n",
      " [2 1 3]\n",
      " [2 2 3]\n",
      " [7 8 7]\n",
      " [2 2 3]]\n"
     ]
    }
   ],
   "source": [
    "#done\n",
    "matr = np.array([[2,2,3],\n",
    "        [3,3,3],\n",
    "        [0,0,0],\n",
    "        [2,1,3],\n",
    "        [2,2,3],\n",
    "        [3,3,3],\n",
    "        [7,8,7],\n",
    "        [5,5,5],\n",
    "        [3,3,3],\n",
    "        [2,2,3]])\n",
    "\n",
    "\n",
    "result = np.where((matr[:, 0] != matr[:, 1])\n",
    "                          | (matr[:, 0] != matr[:, 2]))\n",
    "\n",
    "print(matr[result])"
   ]
  },
  {
   "cell_type": "markdown",
   "id": "28f0d116",
   "metadata": {},
   "source": [
    "**6.** Дан двумерный массив. Удалить те строки, которые повторяются"
   ]
  },
  {
   "cell_type": "code",
   "execution_count": 5,
   "id": "83d2c0b7",
   "metadata": {},
   "outputs": [
    {
     "name": "stdout",
     "output_type": "stream",
     "text": [
      "[[2 2 3]\n",
      " [3 3 3]\n",
      " [0 0 0]\n",
      " [2 1 3]\n",
      " [7 8 7]\n",
      " [5 5 5]]\n"
     ]
    }
   ],
   "source": [
    "#done\n",
    "matr =  np.array([[2,2,3],\n",
    "        [3,3,3],\n",
    "        [0,0,0],\n",
    "        [2,1,3],\n",
    "        [2,2,3],\n",
    "        [3,3,3],\n",
    "        [7,8,7],\n",
    "        [5,5,5],\n",
    "        [3,3,3],\n",
    "        [2,2,3]])\n",
    "\n",
    "_, indices = np.unique(matr, axis=0, return_index=True)\n",
    "\n",
    "result = matr[np.sort(indices)]\n",
    "\n",
    "print(result)"
   ]
  },
  {
   "cell_type": "markdown",
   "id": "6daa9e37",
   "metadata": {},
   "source": [
    "______\n",
    "______"
   ]
  },
  {
   "cell_type": "markdown",
   "id": "cfbfcaff",
   "metadata": {},
   "source": [
    "Для каждой из следующих задач (1-5) нужно привести 2 реализации – одна без использования numpy (cчитайте, что там, где на входе или выходе должны быть numpy array, будут просто списки), а вторая полностью векторизованная с использованием numpy (без использования питоновских циклов/map/list comprehension).\n",
    "\n",
    "\n",
    "__Замечание 1.__ Можно считать, что все указанные объекты непустые (к примеру, в __задаче 1__ на диагонали матрицы есть ненулевые элементы).\n",
    "\n",
    "__Замечание 2.__ Для большинства задач решение занимает не больше 1-2 строк."
   ]
  },
  {
   "cell_type": "markdown",
   "id": "673cac7f",
   "metadata": {},
   "source": [
    "___"
   ]
  },
  {
   "cell_type": "markdown",
   "id": "ca6f585e",
   "metadata": {},
   "source": [
    "* __Задача 1__: Подсчитать произведение ненулевых элементов на диагонали прямоугольной матрицы.  \n",
    " Например, для X = np.array([[1, 0, 1], [2, 0, 2], [3, 0, 3], [4, 4, 4]]) ответ 3."
   ]
  },
  {
   "cell_type": "code",
   "execution_count": 12,
   "id": "065862fc",
   "metadata": {},
   "outputs": [
    {
     "name": "stdout",
     "output_type": "stream",
     "text": [
      "3\n"
     ]
    }
   ],
   "source": [
    "#done\n",
    "\n",
    "# numpy\n",
    "X = np.array([[1, 0, 1], [2, 0, 2], [3, 0, 3], [4, 4, 4]]) \n",
    "\n",
    "not_null_diag = np.diagonal(X)[np.diagonal(X) != 0]\n",
    "\n",
    "result = np.prod(not_null_diag)\n",
    "\n",
    "print(result)\n",
    "\n",
    "# python\n",
    "X = [[1, 0, 1], [2, 0, 2], [3, 0, 3], [4, 4, 4]]\n",
    "\n",
    "diag_len = min(len(X), len(X[0]))\n",
    "for i in range(diag_len):\n",
    "    res = 1     \n",
    "    if X[i][i] != 0:\n",
    "        res *= X[i][i]\n",
    "\n",
    "if res == 1:\n",
    "    print('No such elements')\n",
    "else:\n",
    "    print(res)"
   ]
  },
  {
   "cell_type": "markdown",
   "id": "9fc51d41",
   "metadata": {},
   "source": [
    "* __Задача 2__: Даны два вектора x и y. Проверить, задают ли они одно и то же мультимножество.  \n",
    "  Например, для x = np.array([1, 2, 2, 4]), y = np.array([4, 2, 1, 2]) ответ True."
   ]
  },
  {
   "cell_type": "code",
   "execution_count": 47,
   "id": "a809e02f",
   "metadata": {},
   "outputs": [
    {
     "name": "stdout",
     "output_type": "stream",
     "text": [
      "True\n"
     ]
    }
   ],
   "source": [
    "#done\n",
    "\n",
    "# numpy\n",
    "\n",
    "x = np.array([1, 2, 2, 4])\n",
    "y = np.array([4, 2, 1, 2])\n",
    "\n",
    "x_unique, x_counts = np.unique(x, return_counts=True)\n",
    "y_unique, y_counts = np.unique(y, return_counts=True)\n",
    "\n",
    "res = True\n",
    "\n",
    "if (np.shape(x_unique) != np.shape(y_unique)):\n",
    "    res = False\n",
    "if (np.any(x_unique != y_unique) or np.any(x_counts != y_counts)):\n",
    "    res =  False\n",
    "    \n",
    "print(res)\n",
    "\n",
    "\n",
    "# python\n",
    "\n",
    "x = [1, 2, 2, 4]\n",
    "y = [4, 2, 1, 2]\n",
    "\n",
    "if len(x) != len(y):\n",
    "    res = False\n",
    "\n",
    "x.sort()\n",
    "y.sort()\n",
    "\n",
    "for i in range(len(x)):\n",
    "    if x[i] != y[i]:\n",
    "        res = False\n",
    "    else:\n",
    "        res = True\n",
    "print(res)"
   ]
  },
  {
   "cell_type": "markdown",
   "id": "b9c185c7",
   "metadata": {},
   "source": [
    "* __Задача 3__: Найти максимальный элемент в векторе x среди элементов, перед которыми стоит ноль. \n",
    " Например, для x = np.array([6, 2, 0, 3, 0, 0, 5, 7, 0]) ответ 5."
   ]
  },
  {
   "cell_type": "code",
   "execution_count": 45,
   "id": "b57df008",
   "metadata": {},
   "outputs": [
    {
     "name": "stdout",
     "output_type": "stream",
     "text": [
      "Max element after zeros: 5\n"
     ]
    }
   ],
   "source": [
    "#done\n",
    "\n",
    "# numpy\n",
    "\n",
    "x = np.array([6, 2, 0, 3, 0, 0, 5, 7, 0])\n",
    "\n",
    "zero_indices = np.where(x==0)\n",
    "\n",
    "if len(x) > (zero_indices[0][-1] + 1):\n",
    "    zero_indices[0] += 1\n",
    "else:\n",
    "    zero_indices[0][:-1] += 1\n",
    "    \n",
    "if len(zero_indices[0]) <= 1 or all(i == 0 for i in x):\n",
    "    print(f'No max element')\n",
    "else:\n",
    "    print(f'Max element after zeros: {np.max(x[zero_indices[0]])}')\n",
    "\n",
    "\n",
    "#python\n",
    "\n",
    "x = [0, 0, 0, 0, 0, 0, 0, 0, 0]\n",
    "\n",
    "elements = []\n",
    "\n",
    "if x[-1] == 0:\n",
    "    for i in range(len(x) - 1):\n",
    "        if x[i] == 0:\n",
    "            elements.append(x[i+1])\n",
    "else:\n",
    "    for i in range(len(x)):\n",
    "        if x[i] == 0:\n",
    "            elements.append(x[i+1])\n",
    "            \n",
    "if len(elements) <= 1 or all(el == 0 for el in elements):\n",
    "    print('No max element')\n",
    "else:\n",
    "    print(f'Max element after zeros: {max(elements)}')"
   ]
  },
  {
   "cell_type": "markdown",
   "id": "480be4ce",
   "metadata": {},
   "source": [
    "* __Задача 4__: Реализовать кодирование длин серий (Run-length encoding). Для некоторого вектора x необходимо вернуть кортеж из двух векторов одинаковой длины. Первый содержит числа, а второй - сколько раз их нужно повторить.  \n",
    " Например, для x = np.array([2, 2, 2, 3, 3, 3, 5]) ответ (np.array([2, 3, 5]), np.array([3, 3, 1]))."
   ]
  },
  {
   "cell_type": "code",
   "execution_count": 126,
   "id": "3c592124",
   "metadata": {},
   "outputs": [
    {
     "name": "stdout",
     "output_type": "stream",
     "text": [
      "Числа: [2 3 5]\n",
      "Частоты: [3 3 1]\n"
     ]
    }
   ],
   "source": [
    "#done\n",
    "#numpy\n",
    "x = np.array([2, 2, 2, 3, 3, 3, 5])\n",
    "\n",
    "diff_x = np.diff(x)\n",
    "\n",
    "diff_bool = np.append(True, diff_x != 0) \n",
    "numbers = x[diff_bool]\n",
    "\n",
    "num_index = np.where(diff_bool)[0] \n",
    "num_index = np.append(num_index, len(x))\n",
    "quantities = np.diff(num_index) \n",
    "print(f'Числа: {numbers}')\n",
    "print(f'Частоты: {quantities}')\n",
    "\n",
    "# python\n",
    "x = [2, 2, 2, 3, 3, 3, 5]\n",
    "counter = 1\n",
    "numbers = []\n",
    "quantity = []\n",
    "for i in range(1, len(x)):\n",
    "    if (x[i] == x[i-1]):\n",
    "        counter += 1\n",
    "    elif x[i] != x[i-1]:\n",
    "        quantity.append(counter)\n",
    "        numbers.append(x[i-1])\n",
    "        counter = 1\n",
    "    if (i == len(x) - 1) and (x[i] == x[i-1]):\n",
    "        quantity.append(counter)\n",
    "    elif (i == len(x) - 1) and (x[i] != x[i-1]):\n",
    "        numbers.append(x[i])\n",
    "        quantity.append(counter)\n",
    "        \n",
    "print(f'Числа: {numbers}')\n",
    "print(f'Частоты: {quantity}')"
   ]
  },
  {
   "cell_type": "markdown",
   "id": "077532ec",
   "metadata": {},
   "source": [
    "* __Задача 5__: Даны две выборки объектов - X и Y. Вычислить матрицу евклидовых расстояний между объектами. Сравните с функцией scipy.spatial.distance.cdist по скорости работы."
   ]
  },
  {
   "cell_type": "code",
   "execution_count": 113,
   "id": "1e807797",
   "metadata": {},
   "outputs": [],
   "source": [
    "import scipy\n",
    "import timeit\n",
    "import math"
   ]
  },
  {
   "cell_type": "code",
   "execution_count": 174,
   "id": "1f3d9c7b",
   "metadata": {},
   "outputs": [
    {
     "name": "stdout",
     "output_type": "stream",
     "text": [
      "[[8.         9.16515139]\n",
      " [9.16515139 8.        ]]\n",
      "[[8.         9.16515139]\n",
      " [9.16515139 8.        ]]\n",
      "NumPy быстрее\n",
      "5.949998740106821e-05\n",
      "0.00028929999098181725\n"
     ]
    }
   ],
   "source": [
    "#done\n",
    "# Numpy\n",
    "X = np.array([[1, 2, 3, 4], [4, 3, 2, 1]])\n",
    "Y = np.array([[5, 6, 7, 8], [8, 7, 6, 5]])\n",
    " \n",
    "def test1():\n",
    "    return np.sqrt(np.sum((X[:, np.newaxis]-Y) ** 2, axis=-1))\n",
    " \n",
    "def test2():\n",
    "    return scipy.spatial.distance.cdist(X, Y)\n",
    "\n",
    "print(test1())\n",
    "print(test2())\n",
    "\n",
    "time1 = timeit.timeit(\"test1()\", setup=\"from __main__ import test1\", number=1)\n",
    "time2 = timeit.timeit(\"test2()\", setup=\"from __main__ import test2\", number=1)\n",
    "\n",
    "if time1 < time2:\n",
    "    print('NumPy быстрее')\n",
    "else:\n",
    "    print('SciPy быстрее')\n",
    "    \n",
    "print(time1)\n",
    "print(time2)\n",
    "\n",
    "\n",
    "# python\n",
    "\n",
    "X = [[1, 2, 3, 4], [4, 3, 2, 1]]\n",
    "Y = [[5, 6, 7, 8], [8, 7, 6, 5]]\n",
    "\n",
    "def test3():\n",
    "    result_matrix = []\n",
    "\n",
    "    for x_row in X:\n",
    "        row_distances = []\n",
    "        for y_row in Y:\n",
    "            distance = math.sqrt(sum((x - y) ** 2 for x, y in zip(x_row, y_row)))\n",
    "            row_distances.append(distance)\n",
    "        result_matrix.append(row_distances)\n",
    "\n",
    "    return result_matrix\n",
    "\n",
    "def test4():\n",
    "    return scipy.spatial.distance.cdist(X, Y)\n",
    "\n",
    "time3 = timeit.timeit(\"test3()\", setup=\"from __main__ import test3\", number=1)\n",
    "time4 = timeit.timeit(\"test4()\", setup=\"from __main__ import test4\", number=1)\n",
    "\n",
    "if time3 < time4:\n",
    "    print('SciPy медленнее')\n",
    "else:\n",
    "    print('SciPy быстрее')\n",
    "    \n",
    "print(time3)\n",
    "print(time4)"
   ]
  },
  {
   "cell_type": "markdown",
   "id": "973e8064",
   "metadata": {},
   "source": [
    "_______\n",
    "________"
   ]
  },
  {
   "cell_type": "markdown",
   "id": "1104acb7",
   "metadata": {},
   "source": [
    "* #### __Задача 6__: CrunchieMunchies __*__\n",
    "\n",
    "Вы работаете в отделе маркетинга пищевой компании MyCrunch, которая разрабатывает новый вид вкусных, полезных злаков под названием **CrunchieMunchies**.\n",
    "\n",
    "Вы хотите продемонстрировать потребителям, насколько полезны ваши хлопья по сравнению с другими ведущими брендами, поэтому вы собрали данные о питании нескольких разных конкурентов.\n",
    "\n",
    "Ваша задача - использовать вычисления Numpy для анализа этих данных и доказать, что ваши **СrunchieMunchies** - самый здоровый выбор для потребителей.\n"
   ]
  },
  {
   "cell_type": "code",
   "execution_count": 77,
   "id": "10a77f8d",
   "metadata": {},
   "outputs": [],
   "source": [
    "import numpy as np"
   ]
  },
  {
   "cell_type": "markdown",
   "id": "ab87cb03",
   "metadata": {},
   "source": [
    "1. Просмотрите файл cereal.csv. Этот файл содержит количества калорий для различных марок хлопьев. Загрузите данные из файла и сохраните их как calorie_stats."
   ]
  },
  {
   "cell_type": "code",
   "execution_count": 130,
   "id": "9681ebf2",
   "metadata": {},
   "outputs": [
    {
     "data": {
      "text/plain": [
       "array([ 70., 120.,  70.,  50., 110., 110., 110., 130.,  90.,  90., 120.,\n",
       "       110., 120., 110., 110., 110., 100., 110., 110., 110., 100., 110.,\n",
       "       100., 100., 110., 110., 100., 120., 120., 110., 100., 110., 100.,\n",
       "       110., 120., 120., 110., 110., 110., 140., 110., 100., 110., 100.,\n",
       "       150., 150., 160., 100., 120., 140.,  90., 130., 120., 100.,  50.,\n",
       "        50., 100., 100., 120., 100.,  90., 110., 110.,  80.,  90.,  90.,\n",
       "       110., 110.,  90., 110., 140., 100., 110., 110., 100., 100., 110.])"
      ]
     },
     "execution_count": 130,
     "metadata": {},
     "output_type": "execute_result"
    }
   ],
   "source": [
    "calorie_stats = np.loadtxt(\"cereal.csv\", delimiter=\",\")\n",
    "calorie_stats"
   ]
  },
  {
   "cell_type": "markdown",
   "id": "139cfbd8",
   "metadata": {},
   "source": [
    "2. В одной порции CrunchieMunchies содержится 60 калорий. Насколько выше среднее количество калорий у ваших конкурентов?\n",
    "\n",
    "Сохраните ответ в переменной average_calories и распечатайте переменную в терминале"
   ]
  },
  {
   "cell_type": "code",
   "execution_count": 134,
   "id": "7036d240",
   "metadata": {},
   "outputs": [
    {
     "name": "stdout",
     "output_type": "stream",
     "text": [
      "Среднее количество калорий у конкурентов: 106.88\n",
      "Разница: 46.88\n"
     ]
    }
   ],
   "source": [
    "average_calories = np.mean(calorie_stats).round(2)\n",
    "diff = (average_calories - 60).round(2)\n",
    "print(f'Среднее количество калорий у конкурентов: {average_calories}')\n",
    "print(f'Разница: {diff}')"
   ]
  },
  {
   "cell_type": "markdown",
   "id": "b2ddb4cd",
   "metadata": {},
   "source": [
    "3. Корректно ли среднее количество калорий отражает распределение набора данных? Давайте отсортируем данные и посмотрим.\n",
    "\n",
    "Отсортируйте данные и сохраните результат в переменной calorie_stats_sorted. Распечатайте отсортированную информацию"
   ]
  },
  {
   "cell_type": "code",
   "execution_count": 135,
   "id": "46eeb4ed",
   "metadata": {},
   "outputs": [
    {
     "data": {
      "text/plain": [
       "array([ 50.,  50.,  50.,  70.,  70.,  80.,  90.,  90.,  90.,  90.,  90.,\n",
       "        90.,  90., 100., 100., 100., 100., 100., 100., 100., 100., 100.,\n",
       "       100., 100., 100., 100., 100., 100., 100., 100., 110., 110., 110.,\n",
       "       110., 110., 110., 110., 110., 110., 110., 110., 110., 110., 110.,\n",
       "       110., 110., 110., 110., 110., 110., 110., 110., 110., 110., 110.,\n",
       "       110., 110., 110., 110., 120., 120., 120., 120., 120., 120., 120.,\n",
       "       120., 120., 120., 130., 130., 140., 140., 140., 150., 150., 160.])"
      ]
     },
     "execution_count": 135,
     "metadata": {},
     "output_type": "execute_result"
    }
   ],
   "source": [
    "calorie_stats_sorted = np.sort(calorie_stats)\n",
    "calorie_stats_sorted"
   ]
  },
  {
   "cell_type": "markdown",
   "id": "4dc74116",
   "metadata": {},
   "source": [
    "4. Похоже, что большинство значений выше среднего. Давайте посмотрим, является ли медиана наиболее корректным показателем набора данных.\n",
    "\n",
    "Вычислите медиану набора данных и сохраните свой ответ в median_calories. Выведите медиану, чтобы вы могли видеть, как она сравнивается со средним значением."
   ]
  },
  {
   "cell_type": "code",
   "execution_count": 136,
   "id": "b56627c3",
   "metadata": {},
   "outputs": [
    {
     "data": {
      "text/plain": [
       "110.0"
      ]
     },
     "execution_count": 136,
     "metadata": {},
     "output_type": "execute_result"
    }
   ],
   "source": [
    "median_calories = np.median(calorie_stats)\n",
    "median_calories"
   ]
  },
  {
   "cell_type": "markdown",
   "id": "a63ab72f",
   "metadata": {},
   "source": [
    "5. В то время как медиана показывает, что по крайней мере половина наших значений составляет более 100 калорий, было бы более впечатляюще показать, что значительная часть конкурентов имеет более высокое количество калорий, чем CrunchieMunchies.\n",
    "\n",
    "Рассчитайте различные процентили и распечатайте их, пока не найдете наименьший процентиль, превышающий 60 калорий. Сохраните это значение в переменной nth_percentile."
   ]
  },
  {
   "cell_type": "code",
   "execution_count": 165,
   "id": "fe80ce03",
   "metadata": {},
   "outputs": [
    {
     "data": {
      "text/plain": [
       "70.0"
      ]
     },
     "execution_count": 165,
     "metadata": {},
     "output_type": "execute_result"
    }
   ],
   "source": [
    "nth_percentile = np.percentile(calorie_stats, 4)\n",
    "nth_percentile"
   ]
  },
  {
   "cell_type": "markdown",
   "id": "a2a3c5aa",
   "metadata": {},
   "source": [
    "6. Хотя процентиль показывает нам, что у большинства конкурентов количество калорий намного выше, это неудобная концепция для использования в маркетинговых материалах.\n",
    "\n",
    "Вместо этого давайте подсчитаем процент хлопьев, в которых содержится более 60 калорий на порцию. Сохраните свой ответ в переменной more_calories и распечатайте его"
   ]
  },
  {
   "cell_type": "code",
   "execution_count": 156,
   "id": "ade0f6ea",
   "metadata": {},
   "outputs": [
    {
     "data": {
      "text/plain": [
       "96.1"
      ]
     },
     "execution_count": 156,
     "metadata": {},
     "output_type": "execute_result"
    }
   ],
   "source": [
    "((np.sum(calorie_stats > 60) / calorie_stats.size) * 100).round(1)"
   ]
  },
  {
   "cell_type": "markdown",
   "id": "1735d65b",
   "metadata": {},
   "source": [
    "7. Это действительно высокий процент. Это будет очень полезно, когда мы будем продвигать CrunchieMunchies. Но один вопрос заключается в том, насколько велики различия в наборе данных? Можем ли мы сделать обобщение, что в большинстве злаков содержится около 100 калорий или разброс еще больше?\n",
    "\n",
    "Рассчитайте величину отклонения, найдя стандартное отклонение, Сохраните свой ответ в calorie_std и распечатайте на терминале. Как мы можем включить эту ценность в наш анализ?"
   ]
  },
  {
   "cell_type": "code",
   "execution_count": 159,
   "id": "85c8df1f",
   "metadata": {},
   "outputs": [
    {
     "data": {
      "text/plain": [
       "19.36"
      ]
     },
     "execution_count": 159,
     "metadata": {},
     "output_type": "execute_result"
    }
   ],
   "source": [
    "calorie_std = np.std(calorie_stats).round(2)\n",
    "calorie_std"
   ]
  },
  {
   "cell_type": "code",
   "execution_count": 160,
   "id": "01c175eb",
   "metadata": {},
   "outputs": [
    {
     "name": "stderr",
     "output_type": "stream",
     "text": [
      "C:\\Users\\USER\\AppData\\Local\\Temp\\ipykernel_24108\\755014806.py:5: FutureWarning: Unlike other reduction functions (e.g. `skew`, `kurtosis`), the default behavior of `mode` typically preserves the axis it acts along. In SciPy 1.11.0, this behavior will change: the default value of `keepdims` will become False, the `axis` over which the statistic is taken will be eliminated, and the value None will no longer be accepted. Set `keepdims` to True or False to avoid this warning.\n",
      "  mode_calories = st.mode(calorie_stats)\n"
     ]
    },
    {
     "data": {
      "text/plain": [
       "ModeResult(mode=array([110.]), count=array([29]))"
      ]
     },
     "execution_count": 160,
     "metadata": {},
     "output_type": "execute_result"
    }
   ],
   "source": [
    "# Можем ли мы сделать обобщение, что в большинстве злаков содержится около 100 калорий или разброс еще больше?\n",
    "# Мне кажется, что вопрос поставлен не совсем корректно, т.к. если речь идёт о разбросе, то должен быть некий интервал,\n",
    "# а не конкретное число. Чтобы узнать, какое количество калорий преобладает среди конкурентов мы можем обратиться к медиане\n",
    "from scipy import stats as st\n",
    "mode_calories = st.mode(calorie_stats)\n",
    "mode_calories\n"
   ]
  },
  {
   "cell_type": "code",
   "execution_count": 163,
   "id": "d1f57795",
   "metadata": {},
   "outputs": [
    {
     "data": {
      "text/plain": [
       "True"
      ]
     },
     "execution_count": 163,
     "metadata": {},
     "output_type": "execute_result"
    }
   ],
   "source": [
    "# Делаем вывод, что преобладает количество конкурентов со 110 калориями (29/77), а не со 100.\n",
    "# Возвращаясь к стандартному отклонению можем сделать вывод: наш показатель равный 60 калориям лежит между 2-мя и 3-мя\n",
    "# стандартными отклонениями, что ещё раз подчёркивает значительное отклонение от среднего показателя среди конкурентов\n",
    "average_calories - 2 * calorie_std > 60\n",
    "average_calories - 3 * calorie_std < 60"
   ]
  },
  {
   "cell_type": "markdown",
   "id": "037455c5",
   "metadata": {},
   "source": [
    "8. Напишите короткий абзац, в котором кратко изложите свои выводы и то, как, по вашему мнению, эти данные могут быть использованы в интересах Mycrunch при маркетинге CrunchieMunchies."
   ]
  },
  {
   "cell_type": "code",
   "execution_count": 167,
   "id": "c260fee9",
   "metadata": {},
   "outputs": [],
   "source": [
    "# С показателем в 60 калорий наши хлопья бьют практически всех конкурентов, входя в топ 4% лучших.\n",
    "# Маркетологи смогут смело утверждать, что 9/10 ̶с̶т̶о̶м̶а̶т̶о̶л̶о̶г̶о̶в̶  диетологов рекомедуют хлопья CrunchieMunchies.\n",
    "# Хочется лишь выдвинуть гипотезу, что при изменении названия на CrunchieMunchie ('Кранчи Мунчи') у потребителей может возникнуть\n",
    "# ассоциация с одной популярной серией фильмов из нулевых, которая, возможно, поднимет продажи."
   ]
  }
 ],
 "metadata": {
  "kernelspec": {
   "display_name": "Python 3 (ipykernel)",
   "language": "python",
   "name": "python3"
  },
  "language_info": {
   "codemirror_mode": {
    "name": "ipython",
    "version": 3
   },
   "file_extension": ".py",
   "mimetype": "text/x-python",
   "name": "python",
   "nbconvert_exporter": "python",
   "pygments_lexer": "ipython3",
   "version": "3.11.4"
  }
 },
 "nbformat": 4,
 "nbformat_minor": 5
}
